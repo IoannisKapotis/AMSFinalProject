{
 "cells": [
  {
   "cell_type": "code",
   "execution_count": 53,
   "id": "319b56b2",
   "metadata": {},
   "outputs": [],
   "source": [
    "#？\n",
    "import numpy as np\n",
    "import pandas as pd\n",
    "\n",
    "\n",
    "import random\n",
    "import json"
   ]
  },
  {
   "cell_type": "code",
   "execution_count": null,
   "id": "9365c288",
   "metadata": {},
   "outputs": [],
   "source": [
    "#？\n",
    "\n",
    "#with open('path/to/words.json', 'r') as file:\n",
    "#data = json.load(file)\n"
   ]
  },
  {
   "cell_type": "code",
   "execution_count": 1,
   "id": "faa4dc7c",
   "metadata": {},
   "outputs": [
    {
     "name": "stdout",
     "output_type": "stream",
     "text": [
      "Collecting english-words\n",
      "  Downloading english-words-2.0.1.tar.gz (8.2 MB)\n",
      "  Installing build dependencies: started\n",
      "  Installing build dependencies: finished with status 'done'\n",
      "  Getting requirements to build wheel: started\n",
      "  Getting requirements to build wheel: finished with status 'done'\n",
      "    Preparing wheel metadata: started\n",
      "    Preparing wheel metadata: finished with status 'done'\n",
      "Building wheels for collected packages: english-words\n",
      "  Building wheel for english-words (PEP 517): started\n",
      "  Building wheel for english-words (PEP 517): finished with status 'done'\n",
      "  Created wheel for english-words: filename=english_words-2.0.1-py3-none-any.whl size=8196275 sha256=e2bcdde01594f638e398bfb975a737aa99adc4687defdf38238befe611e337a7\n",
      "  Stored in directory: c:\\users\\dell\\appdata\\local\\pip\\cache\\wheels\\ee\\f7\\2b\\986b444178fee875697766240e6277a3110e2186aa45565537\n",
      "Successfully built english-words\n",
      "Installing collected packages: english-words\n",
      "Note: you may need to restart the kernel to use updated packages.Successfully installed english-words-2.0.1\n",
      "\n"
     ]
    }
   ],
   "source": [
    "#？\n",
    "#pip install english-words"
   ]
  },
  {
   "cell_type": "code",
   "execution_count": 75,
   "id": "a80fcf0c",
   "metadata": {},
   "outputs": [],
   "source": [
    "# can be modified\n",
    "\n",
    "dictionary = [\"apple\", \"banana\", \"cherry\", \"delta\", \"elephant\", \"falcon\", \"giraffe\", \"happy\", \"igloo\"]\n",
    "\n",
    "def choose_random_word():\n",
    "    # select a random word from the dictionary\n",
    "    random_word = random.choice(dictionary)\n",
    "\n",
    "    # ensure the selected word is five letters long\n",
    "    while len(random_word) != 5:\n",
    "        random_word = random.choice(dictionary)\n",
    "\n",
    "    return random_word\n"
   ]
  },
  {
   "cell_type": "code",
   "execution_count": 76,
   "id": "827e59d7",
   "metadata": {},
   "outputs": [
    {
     "name": "stdout",
     "output_type": "stream",
     "text": [
      "The target word is: delta\n"
     ]
    }
   ],
   "source": [
    "# example usage:\n",
    "target_word = choose_random_word()\n",
    "# print the target word before the game\n",
    "print(f\"The target word is: {target_word}\")  "
   ]
  },
  {
   "cell_type": "code",
   "execution_count": null,
   "id": "3fe25807",
   "metadata": {},
   "outputs": [],
   "source": []
  },
  {
   "cell_type": "code",
   "execution_count": 77,
   "id": "0ac60dea",
   "metadata": {},
   "outputs": [],
   "source": [
    "# code from Thomas- show the color\n",
    "\n",
    "def update_game_state(actual_word, user_guess, gylist):\n",
    "    # Find all green letters\n",
    "    for gcNum, guessChar in enumerate(user_guess):\n",
    "        for acNum, acChar in enumerate(actual_word):\n",
    "            if guessChar == acChar and gcNum == acNum:\n",
    "                gylist[gcNum] = 'g'\n",
    "\n",
    "    for acNum, acChar in enumerate(actual_word):\n",
    "        if gylist[acNum] != 'g':\n",
    "            for gcNum, guessChar in enumerate(user_guess):\n",
    "                if guessChar == acChar and gylist[gcNum] != 'g':\n",
    "                    gylist[gcNum] = 'y'\n",
    "    \n",
    "                    break\n",
    "\n",
    "    return gylist"
   ]
  },
  {
   "cell_type": "code",
   "execution_count": null,
   "id": "4554b608",
   "metadata": {},
   "outputs": [],
   "source": [
    "             "
   ]
  },
  {
   "cell_type": "code",
   "execution_count": 78,
   "id": "83378933",
   "metadata": {},
   "outputs": [],
   "source": [
    "#main game\n",
    "def play_game():\n",
    "    target_word = choose_random_word()\n",
    "    max_guesses = 5\n",
    "    current_guess = 0\n",
    "    gylist = ['b', 'b', 'b', 'b', 'b']\n",
    "\n",
    "\n",
    "    while current_guess < max_guesses:\n",
    "        # get user input for the guess\n",
    "        user_guess = input(\"Guess a five-letter word: \").lower()\n",
    "\n",
    "        # check if the guess is valid\n",
    "        if len(user_guess) != 5 or user_guess not in dictionary:\n",
    "            print(\"Invalid guess. Please enter a valid five-letter word.\")\n",
    "            continue\n",
    "\n",
    "        # update game state based on the user's guess\n",
    "        gylist = update_game_state(target_word, user_guess, gylist)\n",
    "\n",
    "        # print feedback to the user\n",
    "        print(f\"Feedback: {gylist}\")\n",
    "\n",
    "        # check if the user guessed the word\n",
    "        if 'b' not in gylist:\n",
    "            print(f\"Congratulations! You guessed the correct word: {target_word}.\")\n",
    "            break\n",
    "        else:\n",
    "            print(\"Incorrect guess. Keep trying!\")\n",
    "\n",
    "        current_guess += 1\n",
    "\n",
    "    # check if the player ran out of guesses\n",
    "    if current_guess == max_guesses:\n",
    "        print(f\"Sorry, you ran out of guesses. The correct word was {target_word}.\")\n"
   ]
  },
  {
   "cell_type": "code",
   "execution_count": 79,
   "id": "d7b50e99",
   "metadata": {},
   "outputs": [
    {
     "name": "stdout",
     "output_type": "stream",
     "text": [
      "Guess a five-letter word: apple\n",
      "Feedback: ['y', 'b', 'b', 'y', 'y']\n",
      "Incorrect guess. Keep trying!\n",
      "Guess a five-letter word: happy\n",
      "Feedback: ['y', 'y', 'b', 'y', 'y']\n",
      "Incorrect guess. Keep trying!\n",
      "Guess a five-letter word: delta\n",
      "Feedback: ['g', 'g', 'g', 'g', 'g']\n",
      "Congratulations! You guessed the correct word: delta.\n"
     ]
    }
   ],
   "source": [
    "# example play the game\n",
    "play_game()\n"
   ]
  },
  {
   "cell_type": "code",
   "execution_count": null,
   "id": "e217f900",
   "metadata": {},
   "outputs": [],
   "source": []
  },
  {
   "cell_type": "code",
   "execution_count": null,
   "id": "69225d67",
   "metadata": {},
   "outputs": [],
   "source": []
  }
 ],
 "metadata": {
  "kernelspec": {
   "display_name": "Python 3 (ipykernel)",
   "language": "python",
   "name": "python3"
  },
  "language_info": {
   "codemirror_mode": {
    "name": "ipython",
    "version": 3
   },
   "file_extension": ".py",
   "mimetype": "text/x-python",
   "name": "python",
   "nbconvert_exporter": "python",
   "pygments_lexer": "ipython3",
   "version": "3.9.12"
  }
 },
 "nbformat": 4,
 "nbformat_minor": 5
}
