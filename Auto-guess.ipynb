{
 "cells": [
  {
   "cell_type": "code",
   "execution_count": null,
   "id": "4e893a92-8a19-4886-ae85-33d9956b1c7e",
   "metadata": {},
   "outputs": [],
   "source": [
    "Black = '#000000'\n",
    "Yellow = '#c8b653'\n",
    "Green = '#6ca965'\n",
    "\n",
    "# Auto-guess algorithm\n",
    "if auto:\n",
    "    if turn == 1:\n",
    "        guess = Choose_Random_Word()\n",
    "    else:\n",
    "        feasible_words=data\n",
    "        for word in data:\n",
    "            for ind, color in enumerate(gylist):\n",
    "                if (color==Green and guess[ind]!=word[ind]):\n",
    "                    feasible_words.remove(word)\n",
    "                if (color==Yellow and (guess[ind] not in word)):\n",
    "                    feasible_words.remove(word)\n",
    "        \n",
    "        guess = random.choice(feasible_words).upper()\n",
    "        lose_Win_Length_label.config(text=f\"Auto-guess: {guess}\")"
   ]
  }
 ],
 "metadata": {
  "kernelspec": {
   "display_name": "Python 3 (ipykernel)",
   "language": "python",
   "name": "python3"
  },
  "language_info": {
   "codemirror_mode": {
    "name": "ipython",
    "version": 3
   },
   "file_extension": ".py",
   "mimetype": "text/x-python",
   "name": "python",
   "nbconvert_exporter": "python",
   "pygments_lexer": "ipython3",
   "version": "3.11.6"
  }
 },
 "nbformat": 4,
 "nbformat_minor": 5
}
