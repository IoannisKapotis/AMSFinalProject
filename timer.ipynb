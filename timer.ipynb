{
 "cells": [
  {
   "cell_type": "code",
   "execution_count": 1,
   "id": "96f28a81",
   "metadata": {},
   "outputs": [],
   "source": [
    "# import the Tkinter module\n",
    "import tkinter as tk\n",
    "from datetime import timedelta"
   ]
  },
  {
   "cell_type": "code",
   "execution_count": null,
   "id": "e8369b75",
   "metadata": {},
   "outputs": [],
   "source": []
  },
  {
   "cell_type": "code",
   "execution_count": 19,
   "id": "ae8f708b",
   "metadata": {},
   "outputs": [],
   "source": [
    "#timer\n",
    "class TimerApp:\n",
    "    #  object is created from the class\n",
    "    def __init__(self, root):\n",
    "        #set the title \n",
    "        self.root = root\n",
    "        self.root.title(\"Timer\")\n",
    "        \n",
    "        # create a StringVar to hold the time value\n",
    "        self.time_var = tk.StringVar()\n",
    "        self.time_var.set(\"01:00\")\n",
    "        \n",
    "        # create a label to display the time\n",
    "        self.label = tk.Label(root, textvariable=self.time_var, font=(\"Arial\", 50))\n",
    "        self.label.pack(padx=20, pady=20)\n",
    "\n",
    "        # window size\n",
    "        root.geometry(\"200x200\")\n",
    "\n",
    "        # countdown time can be modify\n",
    "        self.seconds = 60\n",
    "\n",
    "        # start the timer when the application launches\n",
    "        self.start_timer()\n",
    "\n",
    "        \n",
    "    # initiates the timer by calling the update_timer method\n",
    "    def start_timer(self):\n",
    "        self.update_timer()\n",
    "    \n",
    "    # check if the remaining time is greater than 0\n",
    "    def update_timer(self):\n",
    "        if self.seconds > 0:\n",
    "            self.seconds -= 1\n",
    "            self.update_display()\n",
    "            # update after 1000 milliseconds(1 second)\n",
    "            self.root.after(1000, self.update_timer)  \n",
    "   \n",
    "    # format the remaining time into a string\n",
    "    def update_display(self):\n",
    "        minutes, seconds = divmod(self.seconds, 60)\n",
    "        time_str = f\"{minutes}:{seconds:02d}\"\n",
    "        # update the time displayed in the label\n",
    "        self.time_var.set(time_str)\n",
    "\n",
    "        \n",
    "if __name__ == \"__main__\":\n",
    "    # create the main Tkinter window\n",
    "    root = tk.Tk()\n",
    "    #  create an instance of the TimerApp class\n",
    "    app = TimerApp(root)\n",
    "    # run the Tkinter event loop\n",
    "    root.mainloop()"
   ]
  },
  {
   "cell_type": "code",
   "execution_count": null,
   "id": "dcfd8f82",
   "metadata": {},
   "outputs": [],
   "source": []
  },
  {
   "cell_type": "code",
   "execution_count": null,
   "id": "50f8436b",
   "metadata": {},
   "outputs": [],
   "source": []
  }
 ],
 "metadata": {
  "kernelspec": {
   "display_name": "Python 3 (ipykernel)",
   "language": "python",
   "name": "python3"
  },
  "language_info": {
   "codemirror_mode": {
    "name": "ipython",
    "version": 3
   },
   "file_extension": ".py",
   "mimetype": "text/x-python",
   "name": "python",
   "nbconvert_exporter": "python",
   "pygments_lexer": "ipython3",
   "version": "3.9.12"
  }
 },
 "nbformat": 4,
 "nbformat_minor": 5
}
