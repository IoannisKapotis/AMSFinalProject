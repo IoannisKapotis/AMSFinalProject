{
 "cells": [
  {
   "cell_type": "code",
   "execution_count": 1,
   "id": "203a1d0e",
   "metadata": {},
   "outputs": [],
   "source": [
    "import tkinter as tk\n",
    "from tkinter import messagebox\n"
   ]
  },
  {
   "cell_type": "code",
   "execution_count": null,
   "id": "defe7850",
   "metadata": {},
   "outputs": [],
   "source": [
    "class WordGameGUI:\n",
    "    def __init__(self, master):\n",
    "        self.master = master\n",
    "        master.title(\"Word Game\")\n",
    "\n",
    "        self.rules_button = tk.Button(master, text=\"Game Rules\", command=self.show_rules)\n",
    "        self.rules_button.pack(pady=10)\n",
    "\n",
    "    def play_game(self):\n",
    "        # call play_game function or integrate the game logic here\n",
    "        print(\"Game is being played.\")\n",
    "\n",
    "    def show_rules(self):\n",
    "        rules_text = (\n",
    "            \"Game Rules:\\n\\n\"\n",
    "            \"Guess a five-letter word, you have one minute and five chances.\\n\\n\"\n",
    "            \"Guess the five words:\\n\"\n",
    "            \"- If the characters are the same and in the same spot: Green\\n\"\n",
    "            \"- If the same but in different spots: Yellow\\n\"\n",
    "            \"- If not: Black, and gray it out on the keyboard\\n\"\n",
    "            \"- If all Green: user wins\"\n",
    "        )\n",
    "        messagebox.showinfo(\"Game Rules\", rules_text)\n",
    "\n",
    "if __name__ == \"__main__\":\n",
    "    root = tk.Tk()\n",
    "    app = WordGameGUI(root)\n",
    "    root.mainloop()"
   ]
  },
  {
   "cell_type": "code",
   "execution_count": null,
   "id": "8c305521",
   "metadata": {},
   "outputs": [],
   "source": []
  }
 ],
 "metadata": {
  "kernelspec": {
   "display_name": "Python 3 (ipykernel)",
   "language": "python",
   "name": "python3"
  },
  "language_info": {
   "codemirror_mode": {
    "name": "ipython",
    "version": 3
   },
   "file_extension": ".py",
   "mimetype": "text/x-python",
   "name": "python",
   "nbconvert_exporter": "python",
   "pygments_lexer": "ipython3",
   "version": "3.9.12"
  }
 },
 "nbformat": 4,
 "nbformat_minor": 5
}
